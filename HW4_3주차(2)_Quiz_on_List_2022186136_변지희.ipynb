{
  "nbformat": 4,
  "nbformat_minor": 0,
  "metadata": {
    "colab": {
      "provenance": [],
      "authorship_tag": "ABX9TyMk9hcpBfZwKVOP/Epc96Pe",
      "include_colab_link": true
    },
    "kernelspec": {
      "name": "python3",
      "display_name": "Python 3"
    },
    "language_info": {
      "name": "python"
    }
  },
  "cells": [
    {
      "cell_type": "markdown",
      "metadata": {
        "id": "view-in-github",
        "colab_type": "text"
      },
      "source": [
        "<a href=\"https://colab.research.google.com/github/jihee-byun/python_programming/blob/main/HW4_3%EC%A3%BC%EC%B0%A8(2)_Quiz_on_List_2022186136_%EB%B3%80%EC%A7%80%ED%9D%AC.ipynb\" target=\"_parent\"><img src=\"https://colab.research.google.com/assets/colab-badge.svg\" alt=\"Open In Colab\"/></a>"
      ]
    },
    {
      "cell_type": "code",
      "execution_count": null,
      "metadata": {
        "colab": {
          "base_uri": "https://localhost:8080/"
        },
        "id": "yfnQ0hc5cgEC",
        "outputId": "b5c8ffc0-5226-4375-a0e4-6323c6241d95"
      },
      "outputs": [
        {
          "output_type": "execute_result",
          "data": {
            "text/plain": [
              "[1, 'hello', [1, 2, 3], True]"
            ]
          },
          "metadata": {},
          "execution_count": 1
        }
      ],
      "source": [
        "a_list = [1, 'hello', [1, 2, 3] , True]\n",
        "a_list"
      ]
    },
    {
      "cell_type": "code",
      "source": [
        "a_list[1]"
      ],
      "metadata": {
        "colab": {
          "base_uri": "https://localhost:8080/",
          "height": 35
        },
        "id": "H3Ux3frbcxrq",
        "outputId": "384effe9-ce42-45e0-b4aa-f96c695d3b7b"
      },
      "execution_count": null,
      "outputs": [
        {
          "output_type": "execute_result",
          "data": {
            "text/plain": [
              "'hello'"
            ],
            "application/vnd.google.colaboratory.intrinsic+json": {
              "type": "string"
            }
          },
          "metadata": {},
          "execution_count": 4
        }
      ]
    },
    {
      "cell_type": "code",
      "source": [
        "a_list[1:4]"
      ],
      "metadata": {
        "colab": {
          "base_uri": "https://localhost:8080/"
        },
        "id": "iY4gmxeVdAIB",
        "outputId": "487cfbed-5956-457a-89cf-dbc6cc024e5f"
      },
      "execution_count": null,
      "outputs": [
        {
          "output_type": "execute_result",
          "data": {
            "text/plain": [
              "['hello', [1, 2, 3], True]"
            ]
          },
          "metadata": {},
          "execution_count": 5
        }
      ]
    },
    {
      "cell_type": "code",
      "source": [
        "A = [1, 'a']\n",
        "B = [2, 1, 'd']\n",
        "A+B"
      ],
      "metadata": {
        "colab": {
          "base_uri": "https://localhost:8080/"
        },
        "id": "cnp67Vq-dOOQ",
        "outputId": "807f7055-2886-4a92-f2ed-471bcac14578"
      },
      "execution_count": null,
      "outputs": [
        {
          "output_type": "execute_result",
          "data": {
            "text/plain": [
              "[1, 'a', 2, 1, 'd']"
            ]
          },
          "metadata": {},
          "execution_count": 7
        }
      ]
    }
  ]
}