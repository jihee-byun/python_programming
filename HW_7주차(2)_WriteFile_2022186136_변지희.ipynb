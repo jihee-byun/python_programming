{
  "cells": [
    {
      "cell_type": "markdown",
      "metadata": {
        "id": "view-in-github",
        "colab_type": "text"
      },
      "source": [
        "<a href=\"https://colab.research.google.com/github/jihee-byun/python_programming/blob/main/HW_7%EC%A3%BC%EC%B0%A8(2)_WriteFile_2022186136_%EB%B3%80%EC%A7%80%ED%9D%AC.ipynb\" target=\"_parent\"><img src=\"https://colab.research.google.com/assets/colab-badge.svg\" alt=\"Open In Colab\"/></a>"
      ]
    },
    {
      "cell_type": "markdown",
      "id": "9a53eb8b",
      "metadata": {
        "id": "9a53eb8b"
      },
      "source": [
        "<h2 id=\"write\">Writing Files</h2>"
      ]
    },
    {
      "cell_type": "markdown",
      "id": "a6d68007",
      "metadata": {
        "id": "a6d68007"
      },
      "source": [
        " We can open a file object using the method <code>write()</code> to save the text file to a list. To write the mode, argument must be set to write <b>w</b>. Let’s write a file <b>example2.txt</b> with the line: <b>“This is line A”</b>"
      ]
    },
    {
      "cell_type": "code",
      "execution_count": null,
      "id": "57d01969",
      "metadata": {
        "id": "57d01969"
      },
      "outputs": [],
      "source": [
        "# Write line to file\n",
        "\n",
        "with open('example2.txt', 'w') as writefile:\n",
        "    writefile.write(\"This is line A\")"
      ]
    },
    {
      "cell_type": "markdown",
      "id": "471155cb",
      "metadata": {
        "id": "471155cb"
      },
      "source": [
        " We can read the file to see if it worked:"
      ]
    },
    {
      "cell_type": "code",
      "execution_count": null,
      "id": "f840983e",
      "metadata": {
        "id": "f840983e",
        "outputId": "e94de834-3b90-4ee6-fa54-d280234daf40"
      },
      "outputs": [
        {
          "name": "stdout",
          "output_type": "stream",
          "text": [
            "This is line A\n"
          ]
        }
      ],
      "source": [
        "# Read file\n",
        "\n",
        "with open('example2.txt', 'r') as testwritefile:\n",
        "    print(testwritefile.read())"
      ]
    },
    {
      "cell_type": "markdown",
      "id": "a9cca365",
      "metadata": {
        "id": "a9cca365"
      },
      "source": [
        "We can write multiple lines:"
      ]
    },
    {
      "cell_type": "code",
      "execution_count": null,
      "id": "59038a66",
      "metadata": {
        "id": "59038a66"
      },
      "outputs": [],
      "source": [
        "# Write lines to file\n",
        "\n",
        "with open('example10.txt', 'w') as writefile:\n",
        "    writefile.write(\"This is line A\\n\")\n",
        "    writefile.write(\"This is line B\\n\")\n",
        "    writefile.write(\"This is line 10\\n\")"
      ]
    },
    {
      "cell_type": "markdown",
      "id": "0553f18c",
      "metadata": {
        "id": "0553f18c"
      },
      "source": [
        "The method <code>.write()</code> works similar to the method <code>.readline()</code>, except instead of reading a new line it writes a new line. The process is illustrated in the figure , the different colour coding of the grid represents a new line added to the file after each method call."
      ]
    },
    {
      "cell_type": "markdown",
      "id": "a182d968",
      "metadata": {
        "id": "a182d968"
      },
      "source": [
        "<img src=\"https://s3-api.us-geo.objectstorage.softlayer.net/cf-courses-data/CognitiveClass/PY0101EN/Chapter%204/Images/WriteLine.png\" width=\"500\" />"
      ]
    },
    {
      "cell_type": "markdown",
      "id": "995ba54c",
      "metadata": {
        "id": "995ba54c"
      },
      "source": [
        "You can check the file to see if your results are correct "
      ]
    },
    {
      "cell_type": "code",
      "execution_count": null,
      "id": "483b6b68",
      "metadata": {
        "id": "483b6b68",
        "outputId": "3331decf-7784-46da-9715-e51dc2608e43"
      },
      "outputs": [
        {
          "name": "stdout",
          "output_type": "stream",
          "text": [
            "This is line A\n"
          ]
        }
      ],
      "source": [
        "# Check whether write to file\n",
        "\n",
        "with open('example2.txt', 'r') as testwritefile:\n",
        "    print(testwritefile.read())"
      ]
    },
    {
      "cell_type": "markdown",
      "id": "67c4c03e",
      "metadata": {
        "id": "67c4c03e"
      },
      "source": [
        " By setting the mode argument to append **a**  you can append a new line as follows:"
      ]
    },
    {
      "cell_type": "code",
      "execution_count": null,
      "id": "52811b06",
      "metadata": {
        "id": "52811b06"
      },
      "outputs": [],
      "source": [
        "# Write a new line to text file\n",
        "\n",
        "with open('example2.txt', 'a') as testwritefile:\n",
        "    testwritefile.write(\"This is line C\\n\")"
      ]
    },
    {
      "cell_type": "markdown",
      "id": "6a6bf998",
      "metadata": {
        "id": "6a6bf998"
      },
      "source": [
        " You can verify the file has changed by running the following cell:"
      ]
    },
    {
      "cell_type": "code",
      "execution_count": null,
      "id": "eee00c6f",
      "metadata": {
        "id": "eee00c6f",
        "outputId": "23b8b5ea-0c5d-49e2-85ee-f3927c245ada"
      },
      "outputs": [
        {
          "name": "stdout",
          "output_type": "stream",
          "text": [
            "This is line AThis is line C\n",
            "\n"
          ]
        }
      ],
      "source": [
        "# Verify if the new line is in the text file\n",
        "\n",
        "with open('example2.txt', 'r') as testwritefile:\n",
        "    print(testwritefile.read())"
      ]
    },
    {
      "cell_type": "markdown",
      "id": "a90a6a3f",
      "metadata": {
        "id": "a90a6a3f"
      },
      "source": [
        " We write a list to a <b>.txt</b> file  as follows:"
      ]
    },
    {
      "cell_type": "code",
      "execution_count": null,
      "id": "be526602",
      "metadata": {
        "id": "be526602",
        "outputId": "f42608c9-a8ff-4e14-a694-1ae57314c87f"
      },
      "outputs": [
        {
          "data": {
            "text/plain": [
              "['This is line A\\n', 'This is line B\\n', 'This is line C\\n']"
            ]
          },
          "execution_count": 26,
          "metadata": {},
          "output_type": "execute_result"
        }
      ],
      "source": [
        "# Sample list of text\n",
        "\n",
        "Lines = [\"This is line A\\n\", \"This is line B\\n\", \"This is line C\\n\"]\n",
        "Lines"
      ]
    },
    {
      "cell_type": "code",
      "execution_count": null,
      "id": "11cd5ef3",
      "metadata": {
        "id": "11cd5ef3",
        "outputId": "590dc773-ca6e-4bf4-f62c-f46e8cce3c18"
      },
      "outputs": [
        {
          "name": "stdout",
          "output_type": "stream",
          "text": [
            "This is line A\n",
            "\n",
            "This is line B\n",
            "\n",
            "This is line C\n",
            "\n"
          ]
        }
      ],
      "source": [
        "# Write the strings in the list to text file\n",
        "\n",
        "with open('example11.txt', 'w') as writefile:\n",
        "    for line in Lines:\n",
        "        print(line)\n",
        "        writefile.write(line)"
      ]
    },
    {
      "cell_type": "markdown",
      "id": "b0693743",
      "metadata": {
        "id": "b0693743"
      },
      "source": [
        " We can verify the file is written by reading it and printing out the values:  "
      ]
    },
    {
      "cell_type": "code",
      "execution_count": null,
      "id": "c1690afe",
      "metadata": {
        "id": "c1690afe",
        "outputId": "7c63f61a-db69-4884-f701-1bd09d6f1afa"
      },
      "outputs": [
        {
          "name": "stdout",
          "output_type": "stream",
          "text": [
            "This is line A\n",
            "This is line B\n",
            "This is line C\n",
            "\n"
          ]
        }
      ],
      "source": [
        "# Verify if writing to file is successfully executed\n",
        "\n",
        "with open('example11.txt', 'r') as testwritefile:\n",
        "    print(testwritefile.read())"
      ]
    },
    {
      "cell_type": "markdown",
      "id": "0354e047",
      "metadata": {
        "id": "0354e047"
      },
      "source": [
        "We can again append to the file by changing the second parameter to <b>a</b>. This adds the code:"
      ]
    },
    {
      "cell_type": "code",
      "execution_count": null,
      "id": "f99167da",
      "metadata": {
        "id": "f99167da"
      },
      "outputs": [],
      "source": [
        "# Append the line to the file\n",
        "\n",
        "with open('example11.txt', 'a') as testwritefile:\n",
        "    testwritefile.write(\"This is line D\\n\")"
      ]
    },
    {
      "cell_type": "markdown",
      "id": "c2f21d82",
      "metadata": {
        "id": "c2f21d82"
      },
      "source": [
        "We can see the results of appending the file: "
      ]
    },
    {
      "cell_type": "code",
      "execution_count": null,
      "id": "874139a6",
      "metadata": {
        "id": "874139a6",
        "outputId": "fed3872b-47fd-425e-e657-01c29cf43604"
      },
      "outputs": [
        {
          "name": "stdout",
          "output_type": "stream",
          "text": [
            "This is line A\n",
            "This is line B\n",
            "This is line C\n",
            "This is line D\n",
            "\n"
          ]
        }
      ],
      "source": [
        "# Verify if the appending is successfully executed\n",
        "\n",
        "with open('example11.txt', 'r') as testwritefile:\n",
        "    print(testwritefile.read())"
      ]
    },
    {
      "cell_type": "markdown",
      "id": "f45c4a0e",
      "metadata": {
        "id": "f45c4a0e"
      },
      "source": [
        "<hr>"
      ]
    },
    {
      "cell_type": "markdown",
      "id": "28c2cba1",
      "metadata": {
        "id": "28c2cba1"
      },
      "source": [
        "<h2 id=\"copy\">Copy a File</h2> "
      ]
    },
    {
      "cell_type": "markdown",
      "id": "c0f4ef56",
      "metadata": {
        "id": "c0f4ef56"
      },
      "source": [
        "Let's copy the file <b>Example11.txt</b> to the file <b>Example12.txt</b>:"
      ]
    },
    {
      "cell_type": "code",
      "execution_count": null,
      "id": "02fdb367",
      "metadata": {
        "id": "02fdb367"
      },
      "outputs": [],
      "source": [
        "# Copy file to another\n",
        "\n",
        "with open('example11.txt','r') as readfile:\n",
        "    with open('example12.txt','w') as writefile:\n",
        "          for line in readfile:\n",
        "                writefile.write(line)"
      ]
    },
    {
      "cell_type": "markdown",
      "id": "2a0d02b1",
      "metadata": {
        "id": "2a0d02b1"
      },
      "source": [
        "We can read the file to see if everything works:"
      ]
    },
    {
      "cell_type": "code",
      "execution_count": null,
      "id": "2223c466",
      "metadata": {
        "id": "2223c466",
        "outputId": "fb92b611-589e-443b-8034-d085be76a784"
      },
      "outputs": [
        {
          "name": "stdout",
          "output_type": "stream",
          "text": [
            "This is line A\n",
            "This is line B\n",
            "This is line C\n",
            "This is line D\n",
            "\n"
          ]
        }
      ],
      "source": [
        "# Verify if the copy is successfully executed\n",
        "\n",
        "with open('example12.txt','r') as testwritefile:\n",
        "    print(testwritefile.read())"
      ]
    },
    {
      "cell_type": "code",
      "execution_count": null,
      "id": "25af3dfb",
      "metadata": {
        "id": "25af3dfb",
        "outputId": "59882899-d4df-4fc3-8a66-da7ebfade2eb"
      },
      "outputs": [
        {
          "name": "stdout",
          "output_type": "stream",
          "text": [
            "This is line A\n",
            "This is line B\n",
            "This is line C\n",
            "This is line D\n",
            "\n"
          ]
        }
      ],
      "source": [
        "\n",
        "with open('example12.txt','r') as testwritefile:\n",
        "    print(testwritefile.read())"
      ]
    },
    {
      "cell_type": "markdown",
      "id": "88df984d",
      "metadata": {
        "id": "88df984d"
      },
      "source": [
        " After reading files, we can also write data into files and save them in different file formats like **.txt, .csv, .xls (for excel files) etc**. Let's take a look at some examples."
      ]
    },
    {
      "cell_type": "markdown",
      "id": "bbe1c682",
      "metadata": {
        "id": "bbe1c682"
      },
      "source": [
        "Now go to the directory to ensure the <b>.txt</b> file exists and contains the summary data that we wrote."
      ]
    },
    {
      "cell_type": "markdown",
      "id": "3c26e581",
      "metadata": {
        "id": "3c26e581"
      },
      "source": [
        "<hr>\n",
        "<h2>The last exercise!</h2>\n",
        "<p>Congratulations, you have completed your first lesson and hands-on lab in Python. However, there is one more thing you need to do. The Data Science community encourages sharing work. The best way to share and showcase your work is to share it on GitHub. By sharing your notebook on GitHub you are not only building your reputation with fellow data scientists, but you can also show it off when applying for a job. Even though this was your first piece of work, it is never too early to start building good habits. Please submit all your exercises to Github & let the traces in our LMS, so for me to access your work\n",
        "<hr>"
      ]
    },
    {
      "cell_type": "markdown",
      "id": "ac859f34",
      "metadata": {
        "id": "ac859f34"
      },
      "source": [
        "<hr>"
      ]
    },
    {
      "cell_type": "markdown",
      "id": "ef4b21f7",
      "metadata": {
        "id": "ef4b21f7"
      },
      "source": [
        "<p>Copyright &copy; 2023 RYU HOKYOUNG based on 2018 IBM Developer Skills Network. This notebook and its source code are released under the terms of the <a href=\"https://cognitiveclass.ai/mit-license/\">MIT License</a>.</p>"
      ]
    }
  ],
  "metadata": {
    "kernelspec": {
      "display_name": "Python 3 (ipykernel)",
      "language": "python",
      "name": "python3"
    },
    "language_info": {
      "codemirror_mode": {
        "name": "ipython",
        "version": 3
      },
      "file_extension": ".py",
      "mimetype": "text/x-python",
      "name": "python",
      "nbconvert_exporter": "python",
      "pygments_lexer": "ipython3",
      "version": "3.11.2"
    },
    "colab": {
      "provenance": [],
      "include_colab_link": true
    }
  },
  "nbformat": 4,
  "nbformat_minor": 5
}