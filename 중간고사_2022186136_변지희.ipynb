{
  "nbformat": 4,
  "nbformat_minor": 0,
  "metadata": {
    "colab": {
      "provenance": [],
      "authorship_tag": "ABX9TyNdOvwwJkchh4J8Vr7ui0ro",
      "include_colab_link": true
    },
    "kernelspec": {
      "name": "python3",
      "display_name": "Python 3"
    },
    "language_info": {
      "name": "python"
    }
  },
  "cells": [
    {
      "cell_type": "markdown",
      "metadata": {
        "id": "view-in-github",
        "colab_type": "text"
      },
      "source": [
        "<a href=\"https://colab.research.google.com/github/jihee-byun/python_programming/blob/main/%EC%A4%91%EA%B0%84%EA%B3%A0%EC%82%AC_2022186136_%EB%B3%80%EC%A7%80%ED%9D%AC.ipynb\" target=\"_parent\"><img src=\"https://colab.research.google.com/assets/colab-badge.svg\" alt=\"Open In Colab\"/></a>"
      ]
    },
    {
      "cell_type": "markdown",
      "source": [
        "중간고사"
      ],
      "metadata": {
        "id": "96rhDIymqPAb"
      }
    },
    {
      "cell_type": "markdown",
      "source": [
        "1. 키와 몸무게를 입력하면 BMI를 계산하는 프로그램을 작성하시오 (반복문을 사용해서 계속 몸무게/키를 입력받음. 종료는 -1000을 입력하면 종료하도록 함)"
      ],
      "metadata": {
        "id": "nl7Bz4v4qNfi"
      }
    },
    {
      "cell_type": "code",
      "source": [
        "while True:\n",
        "    height = float(input(\"키를 입력하세요 (cm): \"))\n",
        "    if height == -1000:\n",
        "        print(\"프로그램을 종료합니다.\")\n",
        "        break\n",
        "    weight = float(input(\"몸무게를 입력하세요 (kg): \"))\n",
        "    if weight == -1000:\n",
        "        print(\"프로그램을 종료합니다.\")\n",
        "        break\n",
        "    bmi = weight / ((height / 100) ** 2)\n",
        "    print(\"당신의 BMI는 {:.2f}입니다.\\n\".format(bmi))"
      ],
      "metadata": {
        "colab": {
          "base_uri": "https://localhost:8080/"
        },
        "id": "syNQ8tdFq5gH",
        "outputId": "75ffd253-3d30-42c2-d142-3a4c0846ba59"
      },
      "execution_count": 25,
      "outputs": [
        {
          "output_type": "stream",
          "name": "stdout",
          "text": [
            "키를 입력하세요 (cm): 160\n",
            "몸무게를 입력하세요 (kg): 52\n",
            "당신의 BMI는 20.31입니다.\n",
            "\n",
            "키를 입력하세요 (cm): -1000\n",
            "프로그램을 종료합니다.\n"
          ]
        }
      ]
    },
    {
      "cell_type": "markdown",
      "source": [
        "2. 숫자 2개를 입력받아서 큰수와 작은수를 차례로 출력하는 프로그램을 작성하시오 (반복문을 사용해서 계속 몸무게/키를 입력받음. 종료는  0을 두번 입력하면 종료하도록 함) "
      ],
      "metadata": {
        "id": "-uvMkwVtqT0w"
      }
    },
    {
      "cell_type": "code",
      "source": [
        "숫자1 = 0\n",
        "숫자2 = 0\n",
        "\n",
        "while True:\n",
        "    숫자1 = input(\"첫번째 수를 입력하세요.\")\n",
        "    숫자2 = input(\"두번째 수를 입력하세요.\")\n",
        "    if (float(숫자1)==0) and (float(숫자2)==0):\n",
        "        print(\"프로그램을 종료합니다.\")\n",
        "        break\n",
        "    else:\n",
        "        if float(숫자1)>float(숫자2):\n",
        "            print(\"큰수 : {:.2f}\".format(float(숫자1)))\n",
        "            print(\"작은수 : {:.2f}\".format(float(숫자2)))\n",
        "        elif float(숫자1)==float(숫자2):\n",
        "            print(\"두수의 값이 같습니다.\")\n",
        "        else:\n",
        "            print(\"큰수 : {:.2f}\".format(float(숫자2)))\n",
        "            print(\"작은수 : {:.2f}\".format(float(숫자1)))\n"
      ],
      "metadata": {
        "colab": {
          "base_uri": "https://localhost:8080/",
          "height": 0
        },
        "id": "09e-IliFrwFr",
        "outputId": "bc100e75-1553-45ce-ef71-384de50b9912"
      },
      "execution_count": 22,
      "outputs": [
        {
          "output_type": "stream",
          "name": "stdout",
          "text": [
            "첫번째 수를 입력하세요.1\n",
            "두번째 수를 입력하세요.2\n",
            "큰수 : 2.00\n",
            "작은수 : 1.00\n",
            "첫번째 수를 입력하세요.0\n",
            "두번째 수를 입력하세요.0\n",
            "프로그램을 종료합니다.\n"
          ]
        }
      ]
    },
    {
      "cell_type": "markdown",
      "source": [
        "3. 10명의 학생 이름과 점수를 입력받아 등수를 계산하고, 출력 시에는 이름, 점수를 등수 순서대로 출력하는 프로그램을 작성하시오."
      ],
      "metadata": {
        "id": "ViCAYKcnqTrE"
      }
    },
    {
      "cell_type": "code",
      "source": [
        "students = []\n",
        "\n",
        "for i in range(10):\n",
        "    name = input(\"학생의 이름을 입력하세요: \")\n",
        "    score = int(input(\"학생의 점수를 입력하세요: \"))\n",
        "    students.append((name, score))\n",
        "\n",
        "students = sorted(students, key=lambda x: x[1], reverse=True)\n",
        "\n",
        "for i, (name, score) in enumerate(students):\n",
        "    rank = i + 1\n",
        "    print(\"{rank}등 - 이름: {name}, 점수: {score}\".format(rank=rank, name=name, score=score))"
      ],
      "metadata": {
        "colab": {
          "base_uri": "https://localhost:8080/",
          "height": 0
        },
        "id": "gpYluWCR3jeU",
        "outputId": "bcc80ea5-12a5-4103-f3de-36ade4a93ff9"
      },
      "execution_count": 24,
      "outputs": [
        {
          "output_type": "stream",
          "name": "stdout",
          "text": [
            "학생의 이름을 입력하세요: 변지일\n",
            "학생의 점수를 입력하세요: 1\n",
            "학생의 이름을 입력하세요: 변지이\n",
            "학생의 점수를 입력하세요: 2\n",
            "학생의 이름을 입력하세요: 변지삼\n",
            "학생의 점수를 입력하세요: 3\n",
            "학생의 이름을 입력하세요: 변지사\n",
            "학생의 점수를 입력하세요: 4\n",
            "학생의 이름을 입력하세요: 변지오\n",
            "학생의 점수를 입력하세요: 5\n",
            "학생의 이름을 입력하세요: 변지육\n",
            "학생의 점수를 입력하세요: 6\n",
            "학생의 이름을 입력하세요: 변지칠\n",
            "학생의 점수를 입력하세요: 7\n",
            "학생의 이름을 입력하세요: 변지팔\n",
            "학생의 점수를 입력하세요: 8\n",
            "학생의 이름을 입력하세요: 변지구\n",
            "학생의 점수를 입력하세요: 9\n",
            "학생의 이름을 입력하세요: 변지십\n",
            "학생의 점수를 입력하세요: 10\n",
            "1등 - 이름: 변지십, 점수: 10\n",
            "2등 - 이름: 변지구, 점수: 9\n",
            "3등 - 이름: 변지팔, 점수: 8\n",
            "4등 - 이름: 변지칠, 점수: 7\n",
            "5등 - 이름: 변지육, 점수: 6\n",
            "6등 - 이름: 변지오, 점수: 5\n",
            "7등 - 이름: 변지사, 점수: 4\n",
            "8등 - 이름: 변지삼, 점수: 3\n",
            "9등 - 이름: 변지이, 점수: 2\n",
            "10등 - 이름: 변지일, 점수: 1\n"
          ]
        }
      ]
    }
  ]
}