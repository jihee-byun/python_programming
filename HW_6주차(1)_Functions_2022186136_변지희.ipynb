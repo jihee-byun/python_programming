{
  "nbformat": 4,
  "nbformat_minor": 0,
  "metadata": {
    "colab": {
      "provenance": [],
      "authorship_tag": "ABX9TyNiB8Gt6fPJb/Myrejv92JC",
      "include_colab_link": true
    },
    "kernelspec": {
      "name": "python3",
      "display_name": "Python 3"
    },
    "language_info": {
      "name": "python"
    }
  },
  "cells": [
    {
      "cell_type": "markdown",
      "metadata": {
        "id": "view-in-github",
        "colab_type": "text"
      },
      "source": [
        "<a href=\"https://colab.research.google.com/github/jihee-byun/python_programming/blob/main/HW_6%EC%A3%BC%EC%B0%A8(1)_Functions_2022186136_%EB%B3%80%EC%A7%80%ED%9D%AC.ipynb\" target=\"_parent\"><img src=\"https://colab.research.google.com/assets/colab-badge.svg\" alt=\"Open In Colab\"/></a>"
      ]
    },
    {
      "cell_type": "markdown",
      "source": [
        "Come up with a function that divides the first input by the second input:"
      ],
      "metadata": {
        "id": "rxwjfpVwkVB4"
      }
    },
    {
      "cell_type": "code",
      "source": [
        "def divide(a, b):\n",
        "    return(a/b)"
      ],
      "metadata": {
        "id": "5Ioj1U_okqlf"
      },
      "execution_count": 2,
      "outputs": []
    },
    {
      "cell_type": "code",
      "source": [
        "divide(10, 2)"
      ],
      "metadata": {
        "colab": {
          "base_uri": "https://localhost:8080/"
        },
        "id": "7YJtydfqk8yO",
        "outputId": "f615fa7e-c1af-481b-8f18-cf7e070f36f1"
      },
      "execution_count": 3,
      "outputs": [
        {
          "output_type": "execute_result",
          "data": {
            "text/plain": [
              "5.0"
            ]
          },
          "metadata": {},
          "execution_count": 3
        }
      ]
    },
    {
      "cell_type": "markdown",
      "source": [
        "Use the function con for the following question."
      ],
      "metadata": {
        "id": "wLlQjQAwlaYI"
      }
    },
    {
      "cell_type": "code",
      "source": [
        "def con(a, b):\n",
        "    return(a + b)"
      ],
      "metadata": {
        "id": "n8dJ-gwIlC-d"
      },
      "execution_count": 4,
      "outputs": []
    },
    {
      "cell_type": "markdown",
      "source": [
        "Can the con function we defined before be used to add to integers or strings?"
      ],
      "metadata": {
        "id": "AjSf_v94oUeQ"
      }
    },
    {
      "cell_type": "code",
      "source": [
        "#yes\n",
        "con(1,2)\n",
        "con(\"안녕\",\"하세요\")"
      ],
      "metadata": {
        "colab": {
          "base_uri": "https://localhost:8080/",
          "height": 35
        },
        "id": "atFBZ-9UlNn8",
        "outputId": "f154d26a-313d-4416-f892-2889e273e71f"
      },
      "execution_count": 11,
      "outputs": [
        {
          "output_type": "execute_result",
          "data": {
            "text/plain": [
              "'안녕하세요'"
            ],
            "application/vnd.google.colaboratory.intrinsic+json": {
              "type": "string"
            }
          },
          "metadata": {},
          "execution_count": 11
        }
      ]
    },
    {
      "cell_type": "markdown",
      "source": [
        "Can the con function we defined before be used to concentrate a list or tuple?"
      ],
      "metadata": {
        "id": "HxEmLONMo9HA"
      }
    },
    {
      "cell_type": "code",
      "source": [
        "#yes\n",
        "con(['a', 1], ['b', 1])"
      ],
      "metadata": {
        "colab": {
          "base_uri": "https://localhost:8080/"
        },
        "id": "7fitKOK8okgL",
        "outputId": "b443906b-76c5-415b-ef86-5331e3c619a4"
      },
      "execution_count": 12,
      "outputs": [
        {
          "output_type": "execute_result",
          "data": {
            "text/plain": [
              "['a', 1, 'b', 1]"
            ]
          },
          "metadata": {},
          "execution_count": 12
        }
      ]
    },
    {
      "cell_type": "code",
      "source": [
        "con((1,'일'),(2,'이'))"
      ],
      "metadata": {
        "colab": {
          "base_uri": "https://localhost:8080/"
        },
        "id": "u-XzHZaPpg1K",
        "outputId": "f4cd6d29-5645-4006-e9ef-5a22fe2d52ff"
      },
      "execution_count": 13,
      "outputs": [
        {
          "output_type": "execute_result",
          "data": {
            "text/plain": [
              "(1, '일', 2, '이')"
            ]
          },
          "metadata": {},
          "execution_count": 13
        }
      ]
    },
    {
      "cell_type": "code",
      "source": [],
      "metadata": {
        "id": "u3irBHGtpvpY"
      },
      "execution_count": null,
      "outputs": []
    }
  ]
}